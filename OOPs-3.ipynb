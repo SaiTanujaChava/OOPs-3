{
 "cells": [
  {
   "cell_type": "markdown",
   "metadata": {},
   "source": [
    "# Polymorphism"
   ]
  },
  {
   "cell_type": "markdown",
   "metadata": {},
   "source": [
    "- poly means many and morphs means forms.\n",
    "- polymorphism means many means."
   ]
  },
  {
   "cell_type": "markdown",
   "metadata": {},
   "source": [
    "Example: Student behaviour is different at different situations like infront of the friends, parents, teachers it will be different."
   ]
  },
  {
   "cell_type": "markdown",
   "metadata": {},
   "source": [
    "Ex: + ----> Operator acts as arithemetic addition or concatination for strings.\n",
    "    * ----> Operator acts as multiplication or repetition operator."
   ]
  },
  {
   "cell_type": "markdown",
   "metadata": {},
   "source": [
    "Ex: The same method with different implementations in parent class and child classes.(overriding)"
   ]
  },
  {
   "cell_type": "markdown",
   "metadata": {},
   "source": [
    "## 1. Duck typing Philosophy"
   ]
  },
  {
   "cell_type": "markdown",
   "metadata": {},
   "source": [
    "In python we cannot specify the type explicitly. Data type is decided based on the value what we assign to the variable. "
   ]
  },
  {
   "cell_type": "code",
   "execution_count": 2,
   "metadata": {},
   "outputs": [
    {
     "name": "stdout",
     "output_type": "stream",
     "text": [
      "Quack Quack.....\n",
      "Bow Bow.........\n",
      "Meow Meow.......\n"
     ]
    }
   ],
   "source": [
    "#example pgm \n",
    "class duck:\n",
    "    def talk(self):\n",
    "        print(\"Quack Quack.....\")\n",
    "class dog:\n",
    "    def talk(self):\n",
    "        print(\"Bow Bow.........\")\n",
    "class cat:\n",
    "    def talk(self):\n",
    "        print(\"Meow Meow.......\")\n",
    "        \n",
    "def f1(obj):\n",
    "    obj.talk()\n",
    "l=[duck(),dog(),cat()]\n",
    "for obj in l:\n",
    "    f1(obj)"
   ]
  },
  {
   "cell_type": "code",
   "execution_count": 3,
   "metadata": {},
   "outputs": [
    {
     "name": "stdout",
     "output_type": "stream",
     "text": [
      "Quack Quack.....\n",
      "Meow Meow.......\n",
      "Bow Bow.........\n"
     ]
    }
   ],
   "source": [
    "#example pgm \n",
    "class duck:\n",
    "    def talk(self):\n",
    "        print(\"Quack Quack.....\")\n",
    "class dog:\n",
    "    def talk(self):\n",
    "        print(\"Bow Bow.........\")\n",
    "class cat:\n",
    "    def talk(self):\n",
    "        print(\"Meow Meow.......\")\n",
    "        \n",
    "def f1(obj):\n",
    "    obj.talk()\n",
    "l=[duck(),cat(),dog()]\n",
    "for obj in l:\n",
    "    f1(obj)"
   ]
  },
  {
   "cell_type": "code",
   "execution_count": 6,
   "metadata": {},
   "outputs": [
    {
     "name": "stdout",
     "output_type": "stream",
     "text": [
      "Quack Quack.....\n"
     ]
    },
    {
     "ename": "AttributeError",
     "evalue": "'dog' object has no attribute 'talk'",
     "output_type": "error",
     "traceback": [
      "\u001b[1;31m---------------------------------------------------------------------------\u001b[0m",
      "\u001b[1;31mAttributeError\u001b[0m                            Traceback (most recent call last)",
      "\u001b[1;32m<ipython-input-6-f4bbdc5ae750>\u001b[0m in \u001b[0;36m<module>\u001b[1;34m\u001b[0m\n\u001b[0;32m     14\u001b[0m \u001b[0ml\u001b[0m\u001b[1;33m=\u001b[0m\u001b[1;33m[\u001b[0m\u001b[0mduck\u001b[0m\u001b[1;33m(\u001b[0m\u001b[1;33m)\u001b[0m\u001b[1;33m,\u001b[0m\u001b[0mdog\u001b[0m\u001b[1;33m(\u001b[0m\u001b[1;33m)\u001b[0m\u001b[1;33m,\u001b[0m\u001b[0mcat\u001b[0m\u001b[1;33m(\u001b[0m\u001b[1;33m)\u001b[0m\u001b[1;33m]\u001b[0m\u001b[1;33m\u001b[0m\u001b[1;33m\u001b[0m\u001b[0m\n\u001b[0;32m     15\u001b[0m \u001b[1;32mfor\u001b[0m \u001b[0mobj\u001b[0m \u001b[1;32min\u001b[0m \u001b[0ml\u001b[0m\u001b[1;33m:\u001b[0m\u001b[1;33m\u001b[0m\u001b[1;33m\u001b[0m\u001b[0m\n\u001b[1;32m---> 16\u001b[1;33m     \u001b[0mf1\u001b[0m\u001b[1;33m(\u001b[0m\u001b[0mobj\u001b[0m\u001b[1;33m)\u001b[0m\u001b[1;33m\u001b[0m\u001b[1;33m\u001b[0m\u001b[0m\n\u001b[0m",
      "\u001b[1;32m<ipython-input-6-f4bbdc5ae750>\u001b[0m in \u001b[0;36mf1\u001b[1;34m(obj)\u001b[0m\n\u001b[0;32m     11\u001b[0m \u001b[1;33m\u001b[0m\u001b[0m\n\u001b[0;32m     12\u001b[0m \u001b[1;32mdef\u001b[0m \u001b[0mf1\u001b[0m\u001b[1;33m(\u001b[0m\u001b[0mobj\u001b[0m\u001b[1;33m)\u001b[0m\u001b[1;33m:\u001b[0m\u001b[1;33m\u001b[0m\u001b[1;33m\u001b[0m\u001b[0m\n\u001b[1;32m---> 13\u001b[1;33m     \u001b[0mobj\u001b[0m\u001b[1;33m.\u001b[0m\u001b[0mtalk\u001b[0m\u001b[1;33m(\u001b[0m\u001b[1;33m)\u001b[0m\u001b[1;33m\u001b[0m\u001b[1;33m\u001b[0m\u001b[0m\n\u001b[0m\u001b[0;32m     14\u001b[0m \u001b[0ml\u001b[0m\u001b[1;33m=\u001b[0m\u001b[1;33m[\u001b[0m\u001b[0mduck\u001b[0m\u001b[1;33m(\u001b[0m\u001b[1;33m)\u001b[0m\u001b[1;33m,\u001b[0m\u001b[0mdog\u001b[0m\u001b[1;33m(\u001b[0m\u001b[1;33m)\u001b[0m\u001b[1;33m,\u001b[0m\u001b[0mcat\u001b[0m\u001b[1;33m(\u001b[0m\u001b[1;33m)\u001b[0m\u001b[1;33m]\u001b[0m\u001b[1;33m\u001b[0m\u001b[1;33m\u001b[0m\u001b[0m\n\u001b[0;32m     15\u001b[0m \u001b[1;32mfor\u001b[0m \u001b[0mobj\u001b[0m \u001b[1;32min\u001b[0m \u001b[0ml\u001b[0m\u001b[1;33m:\u001b[0m\u001b[1;33m\u001b[0m\u001b[1;33m\u001b[0m\u001b[0m\n",
      "\u001b[1;31mAttributeError\u001b[0m: 'dog' object has no attribute 'talk'"
     ]
    }
   ],
   "source": [
    "#example pgm \n",
    "class duck:\n",
    "    def talk(self):\n",
    "        print(\"Quack Quack.....\")\n",
    "class dog:\n",
    "    def bark(self):\n",
    "        print(\"Bow Bow.........\")\n",
    "class cat:\n",
    "    def talk(self):\n",
    "        print(\"Meow Meow.......\")\n",
    "        \n",
    "def f1(obj):\n",
    "    obj.talk()\n",
    "l=[duck(),dog(),cat()]\n",
    "for obj in l:\n",
    "    f1(obj)"
   ]
  },
  {
   "cell_type": "markdown",
   "metadata": {},
   "source": [
    "- We can solve the above problem of AttributeError by using hasattr(obj,\"Attributename\")\n",
    "- Here Attributename is methodname or variablename."
   ]
  },
  {
   "cell_type": "code",
   "execution_count": 8,
   "metadata": {},
   "outputs": [
    {
     "name": "stdout",
     "output_type": "stream",
     "text": [
      "Quack Quack.....\n",
      "Bow Bow.........\n",
      "Meow Meow.......\n"
     ]
    }
   ],
   "source": [
    "#example pgm \n",
    "class duck:\n",
    "    def talk(self):\n",
    "        print(\"Quack Quack.....\")\n",
    "class dog:\n",
    "    def bark(self):\n",
    "        print(\"Bow Bow.........\")\n",
    "class cat:\n",
    "    def talk(self):\n",
    "        print(\"Meow Meow.......\")\n",
    "def f1(obj):\n",
    "    if hasattr(obj,\"talk\"):\n",
    "        obj.talk()\n",
    "    elif hasattr(obj,'bark'):\n",
    "        obj.bark()\n",
    "l=[duck(),dog(),cat()]\n",
    "for obj in l:\n",
    "    f1(obj)"
   ]
  },
  {
   "cell_type": "markdown",
   "metadata": {},
   "source": [
    "## 2. Overloading"
   ]
  },
  {
   "cell_type": "markdown",
   "metadata": {},
   "source": [
    "If we use same operator/method for different purposes then it is called overloading."
   ]
  },
  {
   "cell_type": "code",
   "execution_count": 12,
   "metadata": {},
   "outputs": [
    {
     "name": "stdout",
     "output_type": "stream",
     "text": [
      "30\n",
      "Tanuja Chava\n"
     ]
    }
   ],
   "source": [
    "#Example +\n",
    "print(10+20)\n",
    "print(\"Tanuja\"+\" Chava\")"
   ]
  },
  {
   "cell_type": "code",
   "execution_count": 15,
   "metadata": {},
   "outputs": [
    {
     "name": "stdout",
     "output_type": "stream",
     "text": [
      "20\n",
      "Hello Hello Hello \n"
     ]
    }
   ],
   "source": [
    "#Example *\n",
    "print(4*5)\n",
    "print(\"Hello \"*3)"
   ]
  },
  {
   "cell_type": "code",
   "execution_count": null,
   "metadata": {},
   "outputs": [],
   "source": [
    "#method example\n",
    "deposit(cash)\n",
    "deposit(cheque)\n",
    "deposit(DD)"
   ]
  },
  {
   "cell_type": "markdown",
   "metadata": {},
   "source": [
    "There are 3 types of overeloading\n",
    "1. Operator Overloading\n",
    "2. Method Overloading\n",
    "3. Constructor Overloading"
   ]
  },
  {
   "cell_type": "markdown",
   "metadata": {},
   "source": [
    "### 1. Operator Overloading"
   ]
  },
  {
   "cell_type": "code",
   "execution_count": 16,
   "metadata": {},
   "outputs": [
    {
     "name": "stdout",
     "output_type": "stream",
     "text": [
      "30\n",
      "Tanuja Chava\n"
     ]
    }
   ],
   "source": [
    "#Example +\n",
    "print(10+20)\n",
    "print(\"Tanuja\"+\" Chava\")"
   ]
  },
  {
   "cell_type": "code",
   "execution_count": 17,
   "metadata": {},
   "outputs": [
    {
     "name": "stdout",
     "output_type": "stream",
     "text": [
      "20\n",
      "Hello Hello Hello \n"
     ]
    }
   ],
   "source": [
    "#Example *\n",
    "print(4*5)\n",
    "print(\"Hello \"*3)"
   ]
  },
  {
   "cell_type": "code",
   "execution_count": 19,
   "metadata": {},
   "outputs": [
    {
     "ename": "TypeError",
     "evalue": "unsupported operand type(s) for +: 'book' and 'book'",
     "output_type": "error",
     "traceback": [
      "\u001b[1;31m---------------------------------------------------------------------------\u001b[0m",
      "\u001b[1;31mTypeError\u001b[0m                                 Traceback (most recent call last)",
      "\u001b[1;32m<ipython-input-19-c51b6d136bdd>\u001b[0m in \u001b[0;36m<module>\u001b[1;34m\u001b[0m\n\u001b[0;32m      5\u001b[0m \u001b[0mb1\u001b[0m\u001b[1;33m=\u001b[0m\u001b[0mbook\u001b[0m\u001b[1;33m(\u001b[0m\u001b[1;36m100\u001b[0m\u001b[1;33m)\u001b[0m\u001b[1;33m\u001b[0m\u001b[1;33m\u001b[0m\u001b[0m\n\u001b[0;32m      6\u001b[0m \u001b[0mb2\u001b[0m\u001b[1;33m=\u001b[0m\u001b[0mbook\u001b[0m\u001b[1;33m(\u001b[0m\u001b[1;36m200\u001b[0m\u001b[1;33m)\u001b[0m\u001b[1;33m\u001b[0m\u001b[1;33m\u001b[0m\u001b[0m\n\u001b[1;32m----> 7\u001b[1;33m \u001b[0mprint\u001b[0m\u001b[1;33m(\u001b[0m\u001b[0mb1\u001b[0m\u001b[1;33m+\u001b[0m\u001b[0mb2\u001b[0m\u001b[1;33m)\u001b[0m\u001b[1;33m\u001b[0m\u001b[1;33m\u001b[0m\u001b[0m\n\u001b[0m",
      "\u001b[1;31mTypeError\u001b[0m: unsupported operand type(s) for +: 'book' and 'book'"
     ]
    }
   ],
   "source": [
    "#Example pgm\n",
    "class book:\n",
    "    def __init__(self,pages):\n",
    "        self.pages=pages\n",
    "b1=book(100)\n",
    "b2=book(200)\n",
    "print(b1+b2) # As b1 & b2 are object reference var it is not possible"
   ]
  },
  {
   "cell_type": "markdown",
   "metadata": {},
   "source": [
    "We can solve this problem by using inbuilt magic methods."
   ]
  },
  {
   "cell_type": "code",
   "execution_count": 20,
   "metadata": {},
   "outputs": [
    {
     "name": "stdout",
     "output_type": "stream",
     "text": [
      "300\n"
     ]
    }
   ],
   "source": [
    "class book:\n",
    "    def __init__(self,pages):\n",
    "        self.pages=pages\n",
    "    def __add__(self,other):\n",
    "        return self.pages+other.pages\n",
    "b1=book(100)\n",
    "b2=book(200)\n",
    "print(b1+b2)"
   ]
  },
  {
   "cell_type": "markdown",
   "metadata": {},
   "source": [
    "#### List of Operator Overloading magic methods"
   ]
  },
  {
   "cell_type": "markdown",
   "metadata": {},
   "source": [
    "1. + ---->   object.__add__(self,other)\n",
    "2. - ---->   object.__sub__(self,other)\n",
    "3. * ---->   object.__mul__(self,other)\n",
    "4. / ---->   object.__div__(self,other)\n",
    "5. // --->   object.__floordiv__(self,other)\n",
    "6. % ---->   object.__mod__(self,other)\n",
    "7. ** --->   object.__pow__(self,other)\n",
    "8. += --->   object.__iadd__(self,other)\n",
    "9. -= --->   object.__isub__(self,other)\n",
    "10. *= -->   object.__imul__(self,other)\n",
    "11. < --->   object.__lt__(self,other)\n",
    "12. <= -->   object.__le__(self,other)\n",
    "13. > --->   object.__gt__(self,other)\n",
    "14. >= -->   object.ge__(self,other)"
   ]
  },
  {
   "cell_type": "markdown",
   "metadata": {},
   "source": [
    "### 2. Method Overloading"
   ]
  },
  {
   "cell_type": "markdown",
   "metadata": {},
   "source": [
    "If we have two methods with different parameters in the same class then that concept is called method overloading."
   ]
  },
  {
   "cell_type": "code",
   "execution_count": 25,
   "metadata": {},
   "outputs": [
    {
     "name": "stdout",
     "output_type": "stream",
     "text": [
      "Method with two arguments\n"
     ]
    }
   ],
   "source": [
    "#Example pgm for method overloading\n",
    "class test:\n",
    "    def m1(self):\n",
    "        print(\"Method without arguments\")\n",
    "    def m1(self,a):\n",
    "        print(\"method with one argument\")\n",
    "    def m1(self,a,b):\n",
    "        print(\"Method with two arguments\")\n",
    "t=test()\n",
    "#t.m1()\n",
    "#t.m1(10)\n",
    "t.m1(10,20)"
   ]
  },
  {
   "cell_type": "code",
   "execution_count": 26,
   "metadata": {},
   "outputs": [
    {
     "ename": "TypeError",
     "evalue": "m1() takes 1 positional argument but 3 were given",
     "output_type": "error",
     "traceback": [
      "\u001b[1;31m---------------------------------------------------------------------------\u001b[0m",
      "\u001b[1;31mTypeError\u001b[0m                                 Traceback (most recent call last)",
      "\u001b[1;32m<ipython-input-26-49d2903f07f1>\u001b[0m in \u001b[0;36m<module>\u001b[1;34m\u001b[0m\n\u001b[0;32m     11\u001b[0m \u001b[1;31m#t.m1()\u001b[0m\u001b[1;33m\u001b[0m\u001b[1;33m\u001b[0m\u001b[1;33m\u001b[0m\u001b[0m\n\u001b[0;32m     12\u001b[0m \u001b[1;31m#t.m1(10)\u001b[0m\u001b[1;33m\u001b[0m\u001b[1;33m\u001b[0m\u001b[1;33m\u001b[0m\u001b[0m\n\u001b[1;32m---> 13\u001b[1;33m \u001b[0mt\u001b[0m\u001b[1;33m.\u001b[0m\u001b[0mm1\u001b[0m\u001b[1;33m(\u001b[0m\u001b[1;36m10\u001b[0m\u001b[1;33m,\u001b[0m\u001b[1;36m20\u001b[0m\u001b[1;33m)\u001b[0m\u001b[1;33m\u001b[0m\u001b[1;33m\u001b[0m\u001b[0m\n\u001b[0m",
      "\u001b[1;31mTypeError\u001b[0m: m1() takes 1 positional argument but 3 were given"
     ]
    }
   ],
   "source": [
    "#Example pgm for method overloading\n",
    "class test:\n",
    "    \n",
    "    def m1(self,a):\n",
    "        print(\"method with one argument\")\n",
    "    def m1(self,a,b):\n",
    "        print(\"Method with two arguments\")\n",
    "    def m1(self):\n",
    "        print(\"Method without arguments\")\n",
    "t=test()\n",
    "#t.m1()\n",
    "#t.m1(10)\n",
    "t.m1(10,20)"
   ]
  },
  {
   "cell_type": "code",
   "execution_count": 27,
   "metadata": {},
   "outputs": [
    {
     "name": "stdout",
     "output_type": "stream",
     "text": [
      "Method without arguments\n"
     ]
    }
   ],
   "source": [
    "#Example pgm for method overloading\n",
    "class test:\n",
    "    \n",
    "    def m1(self,a):\n",
    "        print(\"method with one argument\")\n",
    "    def m1(self,a,b):\n",
    "        print(\"Method with two arguments\")\n",
    "    def m1(self):\n",
    "        print(\"Method without arguments\")\n",
    "t=test()\n",
    "t.m1()\n",
    "#t.m1(10)\n",
    "#t.m1(10,20)"
   ]
  },
  {
   "cell_type": "code",
   "execution_count": 32,
   "metadata": {},
   "outputs": [
    {
     "ename": "TypeError",
     "evalue": "sum() takes from 1 to 4 positional arguments but 5 were given",
     "output_type": "error",
     "traceback": [
      "\u001b[1;31m---------------------------------------------------------------------------\u001b[0m",
      "\u001b[1;31mTypeError\u001b[0m                                 Traceback (most recent call last)",
      "\u001b[1;32m<ipython-input-32-db63c0690969>\u001b[0m in \u001b[0;36m<module>\u001b[1;34m\u001b[0m\n\u001b[0;32m     13\u001b[0m \u001b[1;31m#t.sum(10,20)\u001b[0m\u001b[1;33m\u001b[0m\u001b[1;33m\u001b[0m\u001b[1;33m\u001b[0m\u001b[0m\n\u001b[0;32m     14\u001b[0m \u001b[1;31m#t.sum(10,20,30)\u001b[0m\u001b[1;33m\u001b[0m\u001b[1;33m\u001b[0m\u001b[1;33m\u001b[0m\u001b[0m\n\u001b[1;32m---> 15\u001b[1;33m \u001b[0mt\u001b[0m\u001b[1;33m.\u001b[0m\u001b[0msum\u001b[0m\u001b[1;33m(\u001b[0m\u001b[1;36m10\u001b[0m\u001b[1;33m,\u001b[0m\u001b[1;36m20\u001b[0m\u001b[1;33m,\u001b[0m\u001b[1;36m30\u001b[0m\u001b[1;33m,\u001b[0m\u001b[1;36m40\u001b[0m\u001b[1;33m)\u001b[0m\u001b[1;33m\u001b[0m\u001b[1;33m\u001b[0m\u001b[0m\n\u001b[0m",
      "\u001b[1;31mTypeError\u001b[0m: sum() takes from 1 to 4 positional arguments but 5 were given"
     ]
    }
   ],
   "source": [
    "#Example pgm of method overloading with default arguments\n",
    "class test:\n",
    "    def sum(self,a=None,b=None,c=None):\n",
    "        if a!=None and b!=None and c!=None:\n",
    "            print(\"The sum of 3 numbers is:\",a+b+c)\n",
    "        elif a!=None and b!=None:\n",
    "            print(\"The sum of 2 numbers is:\",a+b)\n",
    "        else:\n",
    "            print(\"Please provide 2 or 3 no.s to perform addition\")\n",
    "t=test()\n",
    "#t.sum()\n",
    "#t.sum(10)\n",
    "#t.sum(10,20)\n",
    "#t.sum(10,20,30)\n",
    "t.sum(10,20,30,40)"
   ]
  },
  {
   "cell_type": "code",
   "execution_count": 37,
   "metadata": {},
   "outputs": [
    {
     "name": "stdout",
     "output_type": "stream",
     "text": [
      "Sum is: 150\n"
     ]
    }
   ],
   "source": [
    "#Example pgm with variable length of arguments\n",
    "class test:\n",
    "    def sum(self,*a):\n",
    "        total=0\n",
    "        for x in a:\n",
    "            total=total+x\n",
    "        print(\"Sum is:\",total)\n",
    "t=test()\n",
    "#t.sum()\n",
    "#t.sum(10)\n",
    "#t.sum(10,20)\n",
    "t.sum(10,20,30,40,50)"
   ]
  },
  {
   "cell_type": "markdown",
   "metadata": {},
   "source": [
    "### 3. Constructor Overloading "
   ]
  },
  {
   "cell_type": "markdown",
   "metadata": {},
   "source": [
    "- Constructor Overloading is not possible in python.\n",
    "- If we write multiple constructors then it will consider last constructor only."
   ]
  },
  {
   "cell_type": "code",
   "execution_count": 41,
   "metadata": {},
   "outputs": [
    {
     "name": "stdout",
     "output_type": "stream",
     "text": [
      "Two argument constructor\n"
     ]
    }
   ],
   "source": [
    "#Example pgm\n",
    "class test:\n",
    "    def __init__(self):\n",
    "        print(\"No argument constructor\")\n",
    "    def __init__(self,a):\n",
    "        print(\"One argument constructor\")\n",
    "    def __init__(self,a,b):\n",
    "        print(\"Two argument constructor\")\n",
    "#t=test()\n",
    "#t=test(10)\n",
    "t=test(10,20)"
   ]
  },
  {
   "cell_type": "markdown",
   "metadata": {},
   "source": [
    "#### Constructor Overloading with default arguments"
   ]
  },
  {
   "cell_type": "code",
   "execution_count": 45,
   "metadata": {},
   "outputs": [
    {
     "ename": "TypeError",
     "evalue": "__init__() takes from 1 to 3 positional arguments but 5 were given",
     "output_type": "error",
     "traceback": [
      "\u001b[1;31m---------------------------------------------------------------------------\u001b[0m",
      "\u001b[1;31mTypeError\u001b[0m                                 Traceback (most recent call last)",
      "\u001b[1;32m<ipython-input-45-7891faa0c26a>\u001b[0m in \u001b[0;36m<module>\u001b[1;34m\u001b[0m\n\u001b[0;32m      7\u001b[0m \u001b[1;31m#t=test(10)\u001b[0m\u001b[1;33m\u001b[0m\u001b[1;33m\u001b[0m\u001b[1;33m\u001b[0m\u001b[0m\n\u001b[0;32m      8\u001b[0m \u001b[1;31m#t=test(10,20)\u001b[0m\u001b[1;33m\u001b[0m\u001b[1;33m\u001b[0m\u001b[1;33m\u001b[0m\u001b[0m\n\u001b[1;32m----> 9\u001b[1;33m \u001b[0mt\u001b[0m\u001b[1;33m=\u001b[0m\u001b[0mtest\u001b[0m\u001b[1;33m(\u001b[0m\u001b[1;36m10\u001b[0m\u001b[1;33m,\u001b[0m\u001b[1;36m20\u001b[0m\u001b[1;33m,\u001b[0m\u001b[1;36m30\u001b[0m\u001b[1;33m,\u001b[0m\u001b[1;36m40\u001b[0m\u001b[1;33m)\u001b[0m\u001b[1;33m\u001b[0m\u001b[1;33m\u001b[0m\u001b[0m\n\u001b[0m",
      "\u001b[1;31mTypeError\u001b[0m: __init__() takes from 1 to 3 positional arguments but 5 were given"
     ]
    }
   ],
   "source": [
    "#Example pgm\n",
    "class test:\n",
    "    \n",
    "    def __init__(self,a=None,b=None):\n",
    "        print(\"Two argument constructor\")\n",
    "#t=test()\n",
    "#t=test(10)\n",
    "#t=test(10,20)\n",
    "t=test(10,20,30,40)"
   ]
  },
  {
   "cell_type": "markdown",
   "metadata": {},
   "source": [
    "#### Constructor Overloading with variable length of arguments"
   ]
  },
  {
   "cell_type": "code",
   "execution_count": 49,
   "metadata": {},
   "outputs": [
    {
     "name": "stdout",
     "output_type": "stream",
     "text": [
      "No argument constructor\n"
     ]
    }
   ],
   "source": [
    "#Example pgm\n",
    "class test:\n",
    "    def __init__(self,*n):\n",
    "        print(\"No argument constructor\")\n",
    "    \n",
    "#t=test()\n",
    "#t=test(10)\n",
    "#t=test(10,20)\n",
    "t=test(10,20,30,40)"
   ]
  },
  {
   "cell_type": "code",
   "execution_count": null,
   "metadata": {},
   "outputs": [],
   "source": []
  }
 ],
 "metadata": {
  "kernelspec": {
   "display_name": "Python 3",
   "language": "python",
   "name": "python3"
  },
  "language_info": {
   "codemirror_mode": {
    "name": "ipython",
    "version": 3
   },
   "file_extension": ".py",
   "mimetype": "text/x-python",
   "name": "python",
   "nbconvert_exporter": "python",
   "pygments_lexer": "ipython3",
   "version": "3.8.3"
  }
 },
 "nbformat": 4,
 "nbformat_minor": 4
}
